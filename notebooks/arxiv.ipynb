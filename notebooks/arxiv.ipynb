{
 "cells": [
  {
   "cell_type": "code",
   "execution_count": 4,
   "metadata": {},
   "outputs": [],
   "source": [
    "import json\n",
    "import polars as pl\n",
    "from pathlib import Path"
   ]
  },
  {
   "cell_type": "code",
   "execution_count": 7,
   "metadata": {},
   "outputs": [],
   "source": [
    "metadata_path = Path(\"../data/arxiv/arxiv-metadata-oai-snapshot.json\")\n",
    "assert metadata_path.exists()"
   ]
  },
  {
   "cell_type": "code",
   "execution_count": 24,
   "metadata": {},
   "outputs": [
    {
     "data": {
      "text/html": [
       "<div><style>\n",
       ".dataframe > thead > tr,\n",
       ".dataframe > tbody > tr {\n",
       "  text-align: right;\n",
       "  white-space: pre-wrap;\n",
       "}\n",
       "</style>\n",
       "<small>shape: (5, 14)</small><table border=\"1\" class=\"dataframe\"><thead><tr><th>id</th><th>submitter</th><th>authors</th><th>title</th><th>comments</th><th>journal-ref</th><th>doi</th><th>report-no</th><th>categories</th><th>license</th><th>abstract</th><th>versions</th><th>update_date</th><th>authors_parsed</th></tr><tr><td>str</td><td>str</td><td>str</td><td>str</td><td>str</td><td>str</td><td>str</td><td>str</td><td>str</td><td>str</td><td>str</td><td>list[struct[2]]</td><td>str</td><td>list[list[str]]</td></tr></thead><tbody><tr><td>&quot;0704.0001&quot;</td><td>&quot;Pavel Nadolsky…</td><td>&quot;C. Bal\\&#x27;azs, E…</td><td>&quot;Calculation of…</td><td>&quot;37 pages, 15 f…</td><td>&quot;Phys.Rev.D76:0…</td><td>&quot;10.1103/PhysRe…</td><td>&quot;ANL-HEP-PR-07-…</td><td>&quot;hep-ph&quot;</td><td>null</td><td>&quot;  A fully diff…</td><td>[{&quot;v1&quot;,&quot;Mon, 2 Apr 2007 19:18:42 GMT&quot;}, {&quot;v2&quot;,&quot;Tue, 24 Jul 2007 20:10:27 GMT&quot;}]</td><td>&quot;2008-11-26&quot;</td><td>[[&quot;Balázs&quot;, &quot;C.&quot;, &quot;&quot;], [&quot;Berger&quot;, &quot;E. L.&quot;, &quot;&quot;], … [&quot;Yuan&quot;, &quot;C. -P.&quot;, &quot;&quot;]]</td></tr><tr><td>&quot;0704.0002&quot;</td><td>&quot;Louis Theran&quot;</td><td>&quot;Ileana Streinu…</td><td>&quot;Sparsity-certi…</td><td>&quot;To appear in G…</td><td>null</td><td>null</td><td>null</td><td>&quot;math.CO cs.CG&quot;</td><td>&quot;http://arxiv.o…</td><td>&quot;  We describe …</td><td>[{&quot;v1&quot;,&quot;Sat, 31 Mar 2007 02:26:18 GMT&quot;}, {&quot;v2&quot;,&quot;Sat, 13 Dec 2008 17:26:00 GMT&quot;}]</td><td>&quot;2008-12-13&quot;</td><td>[[&quot;Streinu&quot;, &quot;Ileana&quot;, &quot;&quot;], [&quot;Theran&quot;, &quot;Louis&quot;, &quot;&quot;]]</td></tr><tr><td>&quot;0704.0003&quot;</td><td>&quot;Hongjun Pan&quot;</td><td>&quot;Hongjun Pan&quot;</td><td>&quot;The evolution …</td><td>&quot;23 pages, 3 fi…</td><td>null</td><td>null</td><td>null</td><td>&quot;physics.gen-ph…</td><td>null</td><td>&quot;  The evolutio…</td><td>[{&quot;v1&quot;,&quot;Sun, 1 Apr 2007 20:46:54 GMT&quot;}, {&quot;v2&quot;,&quot;Sat, 8 Dec 2007 23:47:24 GMT&quot;}, {&quot;v3&quot;,&quot;Sun, 13 Jan 2008 00:36:28 GMT&quot;}]</td><td>&quot;2008-01-13&quot;</td><td>[[&quot;Pan&quot;, &quot;Hongjun&quot;, &quot;&quot;]]</td></tr><tr><td>&quot;0704.0004&quot;</td><td>&quot;David Callan&quot;</td><td>&quot;David Callan&quot;</td><td>&quot;A determinant …</td><td>&quot;11 pages&quot;</td><td>null</td><td>null</td><td>null</td><td>&quot;math.CO&quot;</td><td>null</td><td>&quot;  We show that…</td><td>[{&quot;v1&quot;,&quot;Sat, 31 Mar 2007 03:16:14 GMT&quot;}]</td><td>&quot;2007-05-23&quot;</td><td>[[&quot;Callan&quot;, &quot;David&quot;, &quot;&quot;]]</td></tr><tr><td>&quot;0704.0005&quot;</td><td>&quot;Alberto Torchi…</td><td>&quot;Wael Abu-Shamm…</td><td>&quot;From dyadic $\\…</td><td>null</td><td>&quot;Illinois J. Ma…</td><td>null</td><td>null</td><td>&quot;math.CA math.F…</td><td>null</td><td>&quot;  In this pape…</td><td>[{&quot;v1&quot;,&quot;Mon, 2 Apr 2007 18:09:58 GMT&quot;}]</td><td>&quot;2013-10-15&quot;</td><td>[[&quot;Abu-Shammala&quot;, &quot;Wael&quot;, &quot;&quot;], [&quot;Torchinsky&quot;, &quot;Alberto&quot;, &quot;&quot;]]</td></tr></tbody></table></div>"
      ],
      "text/plain": [
       "shape: (5, 14)\n",
       "┌───────────┬───────────┬───────────┬───────────┬───┬───────────┬───────────┬───────────┬──────────┐\n",
       "│ id        ┆ submitter ┆ authors   ┆ title     ┆ … ┆ abstract  ┆ versions  ┆ update_da ┆ authors_ │\n",
       "│ ---       ┆ ---       ┆ ---       ┆ ---       ┆   ┆ ---       ┆ ---       ┆ te        ┆ parsed   │\n",
       "│ str       ┆ str       ┆ str       ┆ str       ┆   ┆ str       ┆ list[stru ┆ ---       ┆ ---      │\n",
       "│           ┆           ┆           ┆           ┆   ┆           ┆ ct[2]]    ┆ str       ┆ list[lis │\n",
       "│           ┆           ┆           ┆           ┆   ┆           ┆           ┆           ┆ t[str]]  │\n",
       "╞═══════════╪═══════════╪═══════════╪═══════════╪═══╪═══════════╪═══════════╪═══════════╪══════════╡\n",
       "│ 0704.0001 ┆ Pavel     ┆ C.        ┆ Calculati ┆ … ┆ A fully   ┆ [{\"v1\",\"M ┆ 2008-11-2 ┆ [[\"Baláz │\n",
       "│           ┆ Nadolsky  ┆ Bal\\'azs, ┆ on of     ┆   ┆ different ┆ on, 2 Apr ┆ 6         ┆ s\",      │\n",
       "│           ┆           ┆ E. L.     ┆ prompt    ┆   ┆ ial calcu ┆ 2007      ┆           ┆ \"C.\",    │\n",
       "│           ┆           ┆ Berger,   ┆ diphoton  ┆   ┆ lati…     ┆ 19:18:42… ┆           ┆ \"\"], [\"B │\n",
       "│           ┆           ┆ P. M.…    ┆ p…        ┆   ┆           ┆           ┆           ┆ erger\"…  │\n",
       "│ 0704.0002 ┆ Louis     ┆ Ileana    ┆ Sparsity- ┆ … ┆ We        ┆ [{\"v1\",\"S ┆ 2008-12-1 ┆ [[\"Strei │\n",
       "│           ┆ Theran    ┆ Streinu   ┆ certifyin ┆   ┆ describe  ┆ at, 31    ┆ 3         ┆ nu\", \"Il │\n",
       "│           ┆           ┆ and Louis ┆ g Graph   ┆   ┆ a new alg ┆ Mar 2007  ┆           ┆ eana\",   │\n",
       "│           ┆           ┆ Theran    ┆ Decomp…   ┆   ┆ orithm,   ┆ 02:26:1…  ┆           ┆ \"\"],     │\n",
       "│           ┆           ┆           ┆           ┆   ┆ t…        ┆           ┆           ┆ [\"Th…    │\n",
       "│ 0704.0003 ┆ Hongjun   ┆ Hongjun   ┆ The       ┆ … ┆ The       ┆ [{\"v1\",\"S ┆ 2008-01-1 ┆ [[\"Pan\", │\n",
       "│           ┆ Pan       ┆ Pan       ┆ evolution ┆   ┆ evolution ┆ un, 1 Apr ┆ 3         ┆ \"Hongjun │\n",
       "│           ┆           ┆           ┆ of the    ┆   ┆ of Earth- ┆ 2007      ┆           ┆ \", \"\"]]  │\n",
       "│           ┆           ┆           ┆ Earth-Moo ┆   ┆ Moon sy…  ┆ 20:46:54… ┆           ┆          │\n",
       "│           ┆           ┆           ┆ n …       ┆   ┆           ┆           ┆           ┆          │\n",
       "│ 0704.0004 ┆ David     ┆ David     ┆ A determi ┆ … ┆ We show   ┆ [{\"v1\",\"S ┆ 2007-05-2 ┆ [[\"Calla │\n",
       "│           ┆ Callan    ┆ Callan    ┆ nant of   ┆   ┆ that a    ┆ at, 31    ┆ 3         ┆ n\",      │\n",
       "│           ┆           ┆           ┆ Stirling  ┆   ┆ determina ┆ Mar 2007  ┆           ┆ \"David\", │\n",
       "│           ┆           ┆           ┆ cycle …   ┆   ┆ nt of …   ┆ 03:16:1…  ┆           ┆ \"\"]]     │\n",
       "│ 0704.0005 ┆ Alberto   ┆ Wael Abu- ┆ From      ┆ … ┆ In this   ┆ [{\"v1\",\"M ┆ 2013-10-1 ┆ [[\"Abu-S │\n",
       "│           ┆ Torchinsk ┆ Shammala  ┆ dyadic    ┆   ┆ paper we  ┆ on, 2 Apr ┆ 5         ┆ hammala\" │\n",
       "│           ┆ y         ┆ and       ┆ $\\Lambda_ ┆   ┆ show how  ┆ 2007      ┆           ┆ ,        │\n",
       "│           ┆           ┆ Alberto   ┆ {\\alpha}$ ┆   ┆ to c…     ┆ 18:09:58… ┆           ┆ \"Wael\",  │\n",
       "│           ┆           ┆ To…       ┆ t…        ┆   ┆           ┆           ┆           ┆ \"\"], […  │\n",
       "└───────────┴───────────┴───────────┴───────────┴───┴───────────┴───────────┴───────────┴──────────┘"
      ]
     },
     "execution_count": 24,
     "metadata": {},
     "output_type": "execute_result"
    }
   ],
   "source": [
    "metadata_df = pl.read_ndjson(metadata_path)\n",
    "metadata_df.head()"
   ]
  },
  {
   "cell_type": "code",
   "execution_count": 22,
   "metadata": {},
   "outputs": [
    {
     "name": "stdout",
     "output_type": "stream",
     "text": [
      "shape: (1, 1)\n",
      "┌─────────────┐\n",
      "│ update_date │\n",
      "│ ---         │\n",
      "│ str         │\n",
      "╞═════════════╡\n",
      "│ 2007-05-23  │\n",
      "└─────────────┘ shape: (1, 1)\n",
      "┌─────────────┐\n",
      "│ update_date │\n",
      "│ ---         │\n",
      "│ str         │\n",
      "╞═════════════╡\n",
      "│ 2024-02-23  │\n",
      "└─────────────┘\n"
     ]
    }
   ],
   "source": [
    "print(metadata_df.select(\"update_date\").min(), metadata_df.select(\"update_date\").max())"
   ]
  },
  {
   "cell_type": "code",
   "execution_count": 47,
   "metadata": {},
   "outputs": [
    {
     "data": {
      "text/plain": [
       "(34923, 14)"
      ]
     },
     "execution_count": 47,
     "metadata": {},
     "output_type": "execute_result"
    }
   ],
   "source": [
    "lm_papers = metadata_df.filter(\n",
    "    pl.col(\"abstract\").str.contains(\n",
    "        r\"(?i)(\\blanguage\\s+models?\\b)|(transformer)\", literal=False)\n",
    ")\n",
    "lm_papers.shape"
   ]
  },
  {
   "cell_type": "code",
   "execution_count": 48,
   "metadata": {},
   "outputs": [
    {
     "data": {
      "text/html": [
       "<div><style>\n",
       ".dataframe > thead > tr,\n",
       ".dataframe > tbody > tr {\n",
       "  text-align: right;\n",
       "  white-space: pre-wrap;\n",
       "}\n",
       "</style>\n",
       "<small>shape: (1, 14)</small><table border=\"1\" class=\"dataframe\"><thead><tr><th>id</th><th>submitter</th><th>authors</th><th>title</th><th>comments</th><th>journal-ref</th><th>doi</th><th>report-no</th><th>categories</th><th>license</th><th>abstract</th><th>versions</th><th>update_date</th><th>authors_parsed</th></tr><tr><td>str</td><td>str</td><td>str</td><td>str</td><td>str</td><td>str</td><td>str</td><td>str</td><td>str</td><td>str</td><td>str</td><td>list[struct[2]]</td><td>str</td><td>list[list[str]]</td></tr></thead><tbody><tr><td>&quot;1706.03762&quot;</td><td>&quot;Llion Jones&quot;</td><td>&quot;Ashish Vaswani…</td><td>&quot;Attention Is A…</td><td>&quot;15 pages, 5 fi…</td><td>null</td><td>null</td><td>null</td><td>&quot;cs.CL cs.LG&quot;</td><td>&quot;http://arxiv.o…</td><td>&quot;  The dominant…</td><td>[{&quot;v1&quot;,&quot;Mon, 12 Jun 2017 17:57:34 GMT&quot;}, {&quot;v2&quot;,&quot;Mon, 19 Jun 2017 16:49:45 GMT&quot;}, … {&quot;v7&quot;,&quot;Wed, 2 Aug 2023 00:41:18 GMT&quot;}]</td><td>&quot;2023-08-03&quot;</td><td>[[&quot;Vaswani&quot;, &quot;Ashish&quot;, &quot;&quot;], [&quot;Shazeer&quot;, &quot;Noam&quot;, &quot;&quot;], … [&quot;Polosukhin&quot;, &quot;Illia&quot;, &quot;&quot;]]</td></tr></tbody></table></div>"
      ],
      "text/plain": [
       "shape: (1, 14)\n",
       "┌───────────┬───────────┬───────────┬───────────┬───┬───────────┬───────────┬───────────┬──────────┐\n",
       "│ id        ┆ submitter ┆ authors   ┆ title     ┆ … ┆ abstract  ┆ versions  ┆ update_da ┆ authors_ │\n",
       "│ ---       ┆ ---       ┆ ---       ┆ ---       ┆   ┆ ---       ┆ ---       ┆ te        ┆ parsed   │\n",
       "│ str       ┆ str       ┆ str       ┆ str       ┆   ┆ str       ┆ list[stru ┆ ---       ┆ ---      │\n",
       "│           ┆           ┆           ┆           ┆   ┆           ┆ ct[2]]    ┆ str       ┆ list[lis │\n",
       "│           ┆           ┆           ┆           ┆   ┆           ┆           ┆           ┆ t[str]]  │\n",
       "╞═══════════╪═══════════╪═══════════╪═══════════╪═══╪═══════════╪═══════════╪═══════════╪══════════╡\n",
       "│ 1706.0376 ┆ Llion     ┆ Ashish    ┆ Attention ┆ … ┆ The       ┆ [{\"v1\",\"M ┆ 2023-08-0 ┆ [[\"Vaswa │\n",
       "│ 2         ┆ Jones     ┆ Vaswani,  ┆ Is All    ┆   ┆ dominant  ┆ on, 12    ┆ 3         ┆ ni\", \"As │\n",
       "│           ┆           ┆ Noam      ┆ You Need  ┆   ┆ sequence  ┆ Jun 2017  ┆           ┆ hish\",   │\n",
       "│           ┆           ┆ Shazeer,  ┆           ┆   ┆ transduc… ┆ 17:57:3…  ┆           ┆ \"\"],     │\n",
       "│           ┆           ┆ Ni…       ┆           ┆   ┆           ┆           ┆           ┆ [\"Sh…    │\n",
       "└───────────┴───────────┴───────────┴───────────┴───┴───────────┴───────────┴───────────┴──────────┘"
      ]
     },
     "execution_count": 48,
     "metadata": {},
     "output_type": "execute_result"
    }
   ],
   "source": [
    "lm_papers.filter(pl.col(\"id\") == \"1706.03762\")"
   ]
  },
  {
   "cell_type": "code",
   "execution_count": null,
   "metadata": {},
   "outputs": [],
   "source": []
  }
 ],
 "metadata": {
  "kernelspec": {
   "display_name": "sb-env",
   "language": "python",
   "name": "python3"
  },
  "language_info": {
   "codemirror_mode": {
    "name": "ipython",
    "version": 3
   },
   "file_extension": ".py",
   "mimetype": "text/x-python",
   "name": "python",
   "nbconvert_exporter": "python",
   "pygments_lexer": "ipython3",
   "version": "3.11.8"
  }
 },
 "nbformat": 4,
 "nbformat_minor": 2
}
